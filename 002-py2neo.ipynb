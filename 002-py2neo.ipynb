{
 "cells": [
  {
   "cell_type": "markdown",
   "metadata": {},
   "source": [
    "# Plot the top 25 Twitter Hashtags from the day of 10/13 Democratic Debate and the 10/28 Republican Debate"
   ]
  },
  {
   "cell_type": "markdown",
   "metadata": {
    "collapsed": true
   },
   "source": [
    "Connect to Neo4j instance using the [Py2neo Python Library v3](http://py2neo.org/3/)"
   ]
  },
  {
   "cell_type": "code",
   "execution_count": 1,
   "metadata": {
    "collapsed": false
   },
   "outputs": [],
   "source": [
    "from py2neo import Graph, authenticate\n",
    "\n",
    "authenticate(\"192.168.1.1:7474\", \"neo4j\", \"xxxx\")\n",
    "graph = Graph(\"bolt://192.168.1.1/db/data/\")"
   ]
  },
  {
   "cell_type": "markdown",
   "metadata": {},
   "source": [
    "Define the time boundaries for the Democratic and Republican Debates"
   ]
  },
  {
   "cell_type": "code",
   "execution_count": 2,
   "metadata": {
    "collapsed": false
   },
   "outputs": [],
   "source": [
    "from datetime import datetime\n",
    "\n",
    "# Twitter uses the UNIX timestamp for the timestamp_ms field, covert the datetime object to the UNIX timestamp format\n",
    "dem_debate_start = datetime(2015, 10, 13, 0, 0)\n",
    "dem_debate_start_ts = int(dem_debate_start.strftime(\"%s\")) * 1000\n",
    "\n",
    "dem_debate_end = datetime(2015, 10, 14, 0, 0)\n",
    "dem_debate_end_ts = int(dem_debate_end.strftime(\"%s\")) * 1000\n",
    "\n",
    "rep_debate_start = datetime(2015, 10, 28, 0, 0)\n",
    "rep_debate_start_ts = int(rep_debate_start.strftime(\"%s\")) * 1000\n",
    "\n",
    "rep_debate_end = datetime(2015, 10, 29, 0, 0)\n",
    "rep_debate_end_ts = int(rep_debate_end.strftime(\"%s\")) * 1000"
   ]
  },
  {
   "cell_type": "markdown",
   "metadata": {},
   "source": [
    "Count the number of tweets in Neo4j for the Democratic Debate"
   ]
  },
  {
   "cell_type": "code",
   "execution_count": 3,
   "metadata": {
    "collapsed": false
   },
   "outputs": [
    {
     "name": "stdout",
     "output_type": "stream",
     "text": [
      " COUNT(t) \n",
      "----------\n",
      " 1006263  \n"
     ]
    }
   ],
   "source": [
    "query = \"\"\"\n",
    "MATCH (t:Tweet)\n",
    "WHERE toFloat(t.timestamp_ms) > toFloat(%s) AND toFloat(t.timestamp_ms) < toFloat(%s) \n",
    "RETURN COUNT(t)\n",
    "\"\"\"\n",
    "\n",
    "final_query = query % (dem_debate_start_ts, dem_debate_end_ts)\n",
    "\n",
    "num_dem_tweets = graph.run(final_query)\n",
    "num_dem_tweets.dump()"
   ]
  },
  {
   "cell_type": "markdown",
   "metadata": {},
   "source": [
    "Count the number of tweets in Neo4j for the Republican Debate"
   ]
  },
  {
   "cell_type": "code",
   "execution_count": 4,
   "metadata": {
    "collapsed": false
   },
   "outputs": [
    {
     "name": "stdout",
     "output_type": "stream",
     "text": [
      " COUNT(t) \n",
      "----------\n",
      " 1588026  \n"
     ]
    }
   ],
   "source": [
    "query = \"\"\"\n",
    "MATCH (t:Tweet)\n",
    "WHERE toFloat(t.timestamp_ms) > toFloat(%s) AND toFloat(t.timestamp_ms) < toFloat(%s) \n",
    "RETURN COUNT(t)\n",
    "\"\"\"\n",
    "\n",
    "final_query = query % (rep_debate_start_ts, rep_debate_end_ts)\n",
    "\n",
    "num_rep_tweets = graph.run(final_query)\n",
    "num_rep_tweets.dump()"
   ]
  },
  {
   "cell_type": "markdown",
   "metadata": {},
   "source": [
    "Find the top 25 Democratic Debate hashtags and import the results into a [Pandas](http://pandas.pydata.org/) DataFrame."
   ]
  },
  {
   "cell_type": "code",
   "execution_count": 5,
   "metadata": {
    "collapsed": false
   },
   "outputs": [
    {
     "data": {
      "text/html": [
       "<div>\n",
       "<table border=\"1\" class=\"dataframe\">\n",
       "  <thead>\n",
       "    <tr style=\"text-align: right;\">\n",
       "      <th></th>\n",
       "      <th>hashtag</th>\n",
       "      <th>tweets</th>\n",
       "    </tr>\n",
       "  </thead>\n",
       "  <tbody>\n",
       "    <tr>\n",
       "      <th>0</th>\n",
       "      <td>demdebate</td>\n",
       "      <td>209478</td>\n",
       "    </tr>\n",
       "    <tr>\n",
       "      <th>1</th>\n",
       "      <td>debatewithbernie</td>\n",
       "      <td>39550</td>\n",
       "    </tr>\n",
       "    <tr>\n",
       "      <th>2</th>\n",
       "      <td>feelthebern</td>\n",
       "      <td>18775</td>\n",
       "    </tr>\n",
       "    <tr>\n",
       "      <th>3</th>\n",
       "      <td>cnndebate</td>\n",
       "      <td>15952</td>\n",
       "    </tr>\n",
       "    <tr>\n",
       "      <th>4</th>\n",
       "      <td>health</td>\n",
       "      <td>14906</td>\n",
       "    </tr>\n",
       "    <tr>\n",
       "      <th>5</th>\n",
       "      <td>democraticdebate</td>\n",
       "      <td>12112</td>\n",
       "    </tr>\n",
       "    <tr>\n",
       "      <th>6</th>\n",
       "      <td>imwithher</td>\n",
       "      <td>10818</td>\n",
       "    </tr>\n",
       "    <tr>\n",
       "      <th>7</th>\n",
       "      <td>tcot</td>\n",
       "      <td>10293</td>\n",
       "    </tr>\n",
       "    <tr>\n",
       "      <th>8</th>\n",
       "      <td>trump2016</td>\n",
       "      <td>8834</td>\n",
       "    </tr>\n",
       "    <tr>\n",
       "      <th>9</th>\n",
       "      <td>berniesanders</td>\n",
       "      <td>7918</td>\n",
       "    </tr>\n",
       "    <tr>\n",
       "      <th>10</th>\n",
       "      <td>trump</td>\n",
       "      <td>7777</td>\n",
       "    </tr>\n",
       "    <tr>\n",
       "      <th>11</th>\n",
       "      <td>usa4djt</td>\n",
       "      <td>6774</td>\n",
       "    </tr>\n",
       "    <tr>\n",
       "      <th>12</th>\n",
       "      <td>blacklivesmatter</td>\n",
       "      <td>6553</td>\n",
       "    </tr>\n",
       "    <tr>\n",
       "      <th>13</th>\n",
       "      <td>hillaryclinton</td>\n",
       "      <td>5516</td>\n",
       "    </tr>\n",
       "    <tr>\n",
       "      <th>14</th>\n",
       "      <td>hillary</td>\n",
       "      <td>5427</td>\n",
       "    </tr>\n",
       "    <tr>\n",
       "      <th>15</th>\n",
       "      <td>gop</td>\n",
       "      <td>5138</td>\n",
       "    </tr>\n",
       "    <tr>\n",
       "      <th>16</th>\n",
       "      <td>bernie2016</td>\n",
       "      <td>5067</td>\n",
       "    </tr>\n",
       "    <tr>\n",
       "      <th>17</th>\n",
       "      <td>hillary2016</td>\n",
       "      <td>4987</td>\n",
       "    </tr>\n",
       "    <tr>\n",
       "      <th>18</th>\n",
       "      <td>uniteblue</td>\n",
       "      <td>4863</td>\n",
       "    </tr>\n",
       "    <tr>\n",
       "      <th>19</th>\n",
       "      <td>job</td>\n",
       "      <td>4465</td>\n",
       "    </tr>\n",
       "    <tr>\n",
       "      <th>20</th>\n",
       "      <td>bernie</td>\n",
       "      <td>4280</td>\n",
       "    </tr>\n",
       "    <tr>\n",
       "      <th>21</th>\n",
       "      <td>makeamericagreatagain</td>\n",
       "      <td>4240</td>\n",
       "    </tr>\n",
       "    <tr>\n",
       "      <th>22</th>\n",
       "      <td>jobs</td>\n",
       "      <td>3778</td>\n",
       "    </tr>\n",
       "    <tr>\n",
       "      <th>23</th>\n",
       "      <td>pjnet</td>\n",
       "      <td>3640</td>\n",
       "    </tr>\n",
       "    <tr>\n",
       "      <th>24</th>\n",
       "      <td>news</td>\n",
       "      <td>3370</td>\n",
       "    </tr>\n",
       "  </tbody>\n",
       "</table>\n",
       "</div>"
      ],
      "text/plain": [
       "                  hashtag  tweets\n",
       "0               demdebate  209478\n",
       "1        debatewithbernie   39550\n",
       "2             feelthebern   18775\n",
       "3               cnndebate   15952\n",
       "4                  health   14906\n",
       "5        democraticdebate   12112\n",
       "6               imwithher   10818\n",
       "7                    tcot   10293\n",
       "8               trump2016    8834\n",
       "9           berniesanders    7918\n",
       "10                  trump    7777\n",
       "11                usa4djt    6774\n",
       "12       blacklivesmatter    6553\n",
       "13         hillaryclinton    5516\n",
       "14                hillary    5427\n",
       "15                    gop    5138\n",
       "16             bernie2016    5067\n",
       "17            hillary2016    4987\n",
       "18              uniteblue    4863\n",
       "19                    job    4465\n",
       "20                 bernie    4280\n",
       "21  makeamericagreatagain    4240\n",
       "22                   jobs    3778\n",
       "23                  pjnet    3640\n",
       "24                   news    3370"
      ]
     },
     "execution_count": 5,
     "metadata": {},
     "output_type": "execute_result"
    }
   ],
   "source": [
    "import pandas \n",
    "\n",
    "query = \"\"\"\n",
    "MATCH (h:Hashtag)-[:TAGS]->(t:Tweet)   \n",
    "WHERE toFloat(t.timestamp_ms) > toFloat(%s) AND toFloat(t.timestamp_ms) < toFloat(%s) \n",
    "RETURN h.name AS hashtag, COUNT(t) AS tweets \n",
    "ORDER BY tweets DESC LIMIT 25\n",
    "\"\"\"\n",
    "\n",
    "final_query = query % (dem_debate_start_ts, dem_debate_end_ts)\n",
    "\n",
    "top_dem_hashtags = graph.run(final_query)\n",
    "\n",
    "top_dem_hashtags_df = pandas.DataFrame(top_dem_hashtags.__iter__(), columns=top_dem_hashtags.keys())\n",
    "top_dem_hashtags_df"
   ]
  },
  {
   "cell_type": "markdown",
   "metadata": {},
   "source": [
    "Find the top 25 Republican Debate hashtags and import the results into a [Pandas](http://pandas.pydata.org/) DataFrame."
   ]
  },
  {
   "cell_type": "code",
   "execution_count": 6,
   "metadata": {
    "collapsed": false
   },
   "outputs": [
    {
     "data": {
      "text/html": [
       "<div>\n",
       "<table border=\"1\" class=\"dataframe\">\n",
       "  <thead>\n",
       "    <tr style=\"text-align: right;\">\n",
       "      <th></th>\n",
       "      <th>hashtag</th>\n",
       "      <th>tweets</th>\n",
       "    </tr>\n",
       "  </thead>\n",
       "  <tbody>\n",
       "    <tr>\n",
       "      <th>0</th>\n",
       "      <td>gopdebate</td>\n",
       "      <td>189132</td>\n",
       "    </tr>\n",
       "    <tr>\n",
       "      <th>1</th>\n",
       "      <td>cnbcgopdebate</td>\n",
       "      <td>82639</td>\n",
       "    </tr>\n",
       "    <tr>\n",
       "      <th>2</th>\n",
       "      <td>health</td>\n",
       "      <td>39209</td>\n",
       "    </tr>\n",
       "    <tr>\n",
       "      <th>3</th>\n",
       "      <td>tcot</td>\n",
       "      <td>23761</td>\n",
       "    </tr>\n",
       "    <tr>\n",
       "      <th>4</th>\n",
       "      <td>trump</td>\n",
       "      <td>19343</td>\n",
       "    </tr>\n",
       "    <tr>\n",
       "      <th>5</th>\n",
       "      <td>gop</td>\n",
       "      <td>18220</td>\n",
       "    </tr>\n",
       "    <tr>\n",
       "      <th>6</th>\n",
       "      <td>cruzcrew</td>\n",
       "      <td>17878</td>\n",
       "    </tr>\n",
       "    <tr>\n",
       "      <th>7</th>\n",
       "      <td>trump2016</td>\n",
       "      <td>13896</td>\n",
       "    </tr>\n",
       "    <tr>\n",
       "      <th>8</th>\n",
       "      <td>pjnet</td>\n",
       "      <td>13419</td>\n",
       "    </tr>\n",
       "    <tr>\n",
       "      <th>9</th>\n",
       "      <td>uniteblue</td>\n",
       "      <td>10005</td>\n",
       "    </tr>\n",
       "    <tr>\n",
       "      <th>10</th>\n",
       "      <td>news</td>\n",
       "      <td>9810</td>\n",
       "    </tr>\n",
       "    <tr>\n",
       "      <th>11</th>\n",
       "      <td>feelthebern</td>\n",
       "      <td>9226</td>\n",
       "    </tr>\n",
       "    <tr>\n",
       "      <th>12</th>\n",
       "      <td>tedcruz</td>\n",
       "      <td>9002</td>\n",
       "    </tr>\n",
       "    <tr>\n",
       "      <th>13</th>\n",
       "      <td>jobs</td>\n",
       "      <td>7709</td>\n",
       "    </tr>\n",
       "    <tr>\n",
       "      <th>14</th>\n",
       "      <td>makeamericagreatagain</td>\n",
       "      <td>7606</td>\n",
       "    </tr>\n",
       "    <tr>\n",
       "      <th>15</th>\n",
       "      <td>hillary2016</td>\n",
       "      <td>7098</td>\n",
       "    </tr>\n",
       "    <tr>\n",
       "      <th>16</th>\n",
       "      <td>job</td>\n",
       "      <td>5821</td>\n",
       "    </tr>\n",
       "    <tr>\n",
       "      <th>17</th>\n",
       "      <td>wakeupamerica</td>\n",
       "      <td>5388</td>\n",
       "    </tr>\n",
       "    <tr>\n",
       "      <th>18</th>\n",
       "      <td>ainf</td>\n",
       "      <td>4752</td>\n",
       "    </tr>\n",
       "    <tr>\n",
       "      <th>19</th>\n",
       "      <td>cnbc</td>\n",
       "      <td>4705</td>\n",
       "    </tr>\n",
       "    <tr>\n",
       "      <th>20</th>\n",
       "      <td>studentsforbernie</td>\n",
       "      <td>4680</td>\n",
       "    </tr>\n",
       "    <tr>\n",
       "      <th>21</th>\n",
       "      <td>tntvote</td>\n",
       "      <td>4657</td>\n",
       "    </tr>\n",
       "    <tr>\n",
       "      <th>22</th>\n",
       "      <td>cnbcdebate</td>\n",
       "      <td>4609</td>\n",
       "    </tr>\n",
       "    <tr>\n",
       "      <th>23</th>\n",
       "      <td>hillary</td>\n",
       "      <td>4529</td>\n",
       "    </tr>\n",
       "    <tr>\n",
       "      <th>24</th>\n",
       "      <td>p2</td>\n",
       "      <td>4477</td>\n",
       "    </tr>\n",
       "  </tbody>\n",
       "</table>\n",
       "</div>"
      ],
      "text/plain": [
       "                  hashtag  tweets\n",
       "0               gopdebate  189132\n",
       "1           cnbcgopdebate   82639\n",
       "2                  health   39209\n",
       "3                    tcot   23761\n",
       "4                   trump   19343\n",
       "5                     gop   18220\n",
       "6                cruzcrew   17878\n",
       "7               trump2016   13896\n",
       "8                   pjnet   13419\n",
       "9               uniteblue   10005\n",
       "10                   news    9810\n",
       "11            feelthebern    9226\n",
       "12                tedcruz    9002\n",
       "13                   jobs    7709\n",
       "14  makeamericagreatagain    7606\n",
       "15            hillary2016    7098\n",
       "16                    job    5821\n",
       "17          wakeupamerica    5388\n",
       "18                   ainf    4752\n",
       "19                   cnbc    4705\n",
       "20      studentsforbernie    4680\n",
       "21                tntvote    4657\n",
       "22             cnbcdebate    4609\n",
       "23                hillary    4529\n",
       "24                     p2    4477"
      ]
     },
     "execution_count": 6,
     "metadata": {},
     "output_type": "execute_result"
    }
   ],
   "source": [
    "query = \"\"\"\n",
    "MATCH (h:Hashtag)-[:TAGS]->(t:Tweet)   \n",
    "WHERE toFloat(t.timestamp_ms) > toFloat(%s) AND toFloat(t.timestamp_ms) < toFloat(%s) \n",
    "RETURN h.name AS hashtag, COUNT(t) AS tweets \n",
    "ORDER BY tweets DESC LIMIT 25\n",
    "\"\"\"\n",
    "\n",
    "final_query = query % (rep_debate_start_ts, rep_debate_end_ts)\n",
    "\n",
    "top_rep_hashtags = graph.run(final_query)\n",
    "\n",
    "top_rep_hashtags_df = pandas.DataFrame(top_rep_hashtags.__iter__(), columns=top_rep_hashtags.keys())\n",
    "top_rep_hashtags_df"
   ]
  },
  {
   "cell_type": "markdown",
   "metadata": {},
   "source": [
    "Plot the top 25 hashtags from both debate ordered by the number of times they appear in a tweet"
   ]
  },
  {
   "cell_type": "code",
   "execution_count": 7,
   "metadata": {
    "collapsed": false
   },
   "outputs": [
    {
     "data": {
      "text/plain": [
       "<matplotlib.figure.Figure at 0x1160a6750>"
      ]
     },
     "metadata": {},
     "output_type": "display_data"
    },
    {
     "data": {
      "image/png": "[encoded data removed]",
      "text/plain": [
       "<matplotlib.figure.Figure at 0x1155c24d0>"
      ]
     },
     "metadata": {},
     "output_type": "display_data"
    }
   ],
   "source": [
    "%matplotlib inline\n",
    "\n",
    "import matplotlib.patches as mpatches\n",
    "import matplotlib.pyplot as plt\n",
    "\n",
    "# Combine the top_dem_hashtags_df dataframe with the top_rep_hashtags_df dataframe and create a color column based\n",
    "# on which dataframe the hashtag came from\n",
    "result = pandas.concat([top_dem_hashtags_df, top_rep_hashtags_df], keys=[\"blue\", \"red\"])\n",
    "# Sort the dataframe based on the number of tweets\n",
    "final = result.sort_values(by=\"tweets\", ascending=True)\n",
    "final = final.reset_index()\n",
    "\n",
    "# Plot the combined dataframe\n",
    "plt.figure()\n",
    "\n",
    "ax = final.plot('hashtag', 'tweets', kind='barh', color=final[\"level_0\"].tolist(), figsize=(15,15), legend=True, fontsize=12)\n",
    "#ax.set_xticklabels(final[\"tweets\"])\n",
    "ax.set_xlabel(\"# Tweets\", fontsize=12)\n",
    "ax.set_ylabel(\"Hashtag\", fontsize=12)\n",
    "\n",
    "legend_patches = [mpatches.Patch(color='blue', label='Democratic Debate Tweets'), \n",
    "                  mpatches.Patch(color='red', label='Republican Debate Tweets')]\n",
    "plt.legend(handles=legend_patches, loc='lower right')\n",
    "\n",
    "plt.show()"
   ]
  }
 ],
 "metadata": {
  "kernelspec": {
   "display_name": "Python 2",
   "language": "python",
   "name": "python2"
  },
  "language_info": {
   "codemirror_mode": {
    "name": "ipython",
    "version": 2
   },
   "file_extension": ".py",
   "mimetype": "text/x-python",
   "name": "python",
   "nbconvert_exporter": "python",
   "pygments_lexer": "ipython2",
   "version": "2.7.11"
  }
 },
 "nbformat": 4,
 "nbformat_minor": 0
}
